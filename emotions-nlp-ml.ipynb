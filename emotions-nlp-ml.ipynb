{
 "cells": [
  {
   "cell_type": "code",
   "execution_count": 1,
   "id": "df9c4402",
   "metadata": {
    "_cell_guid": "b1076dfc-b9ad-4769-8c92-a6c4dae69d19",
    "_uuid": "8f2839f25d086af736a60e9eeb907d3b93b6e0e5",
    "execution": {
     "iopub.execute_input": "2024-03-01T13:05:03.271933Z",
     "iopub.status.busy": "2024-03-01T13:05:03.271594Z",
     "iopub.status.idle": "2024-03-01T13:05:04.006703Z",
     "shell.execute_reply": "2024-03-01T13:05:04.005775Z"
    },
    "papermill": {
     "duration": 0.752677,
     "end_time": "2024-03-01T13:05:04.008841",
     "exception": false,
     "start_time": "2024-03-01T13:05:03.256164",
     "status": "completed"
    },
    "tags": []
   },
   "outputs": [
    {
     "name": "stdout",
     "output_type": "stream",
     "text": [
      "/kaggle/input/sentiment-analysis/sentiment_analysis.csv\n"
     ]
    }
   ],
   "source": [
    "# This Python 3 environment comes with many helpful analytics libraries installed\n",
    "# It is defined by the kaggle/python Docker image: https://github.com/kaggle/docker-python\n",
    "# For example, here's several helpful packages to load\n",
    "\n",
    "import numpy as np # linear algebra\n",
    "import pandas as pd # data processing, CSV file I/O (e.g. pd.read_csv)\n",
    "\n",
    "# Input data files are available in the read-only \"../input/\" directory\n",
    "# For example, running this (by clicking run or pressing Shift+Enter) will list all files under the input directory\n",
    "\n",
    "import os\n",
    "for dirname, _, filenames in os.walk('/kaggle/input'):\n",
    "    for filename in filenames:\n",
    "        print(os.path.join(dirname, filename))\n",
    "\n",
    "# You can write up to 20GB to the current directory (/kaggle/working/) that gets preserved as output when you create a version using \"Save & Run All\" \n",
    "# You can also write temporary files to /kaggle/temp/, but they won't be saved outside of the current session"
   ]
  },
  {
   "cell_type": "code",
   "execution_count": 2,
   "id": "cfbd140c",
   "metadata": {
    "execution": {
     "iopub.execute_input": "2024-03-01T13:05:04.038028Z",
     "iopub.status.busy": "2024-03-01T13:05:04.037205Z",
     "iopub.status.idle": "2024-03-01T13:05:05.723232Z",
     "shell.execute_reply": "2024-03-01T13:05:05.722448Z"
    },
    "papermill": {
     "duration": 1.702819,
     "end_time": "2024-03-01T13:05:05.725511",
     "exception": false,
     "start_time": "2024-03-01T13:05:04.022692",
     "status": "completed"
    },
    "tags": []
   },
   "outputs": [],
   "source": [
    "import matplotlib.pyplot as plt\n",
    "import string \n",
    "import re\n",
    "from nltk import sent_tokenize , word_tokenize\n",
    "from nltk.stem import PorterStemmer\n",
    "from nltk.corpus import stopwords"
   ]
  },
  {
   "cell_type": "code",
   "execution_count": 3,
   "id": "bac742d4",
   "metadata": {
    "execution": {
     "iopub.execute_input": "2024-03-01T13:05:05.755504Z",
     "iopub.status.busy": "2024-03-01T13:05:05.754795Z",
     "iopub.status.idle": "2024-03-01T13:05:05.773617Z",
     "shell.execute_reply": "2024-03-01T13:05:05.772772Z"
    },
    "papermill": {
     "duration": 0.03569,
     "end_time": "2024-03-01T13:05:05.775684",
     "exception": false,
     "start_time": "2024-03-01T13:05:05.739994",
     "status": "completed"
    },
    "tags": []
   },
   "outputs": [],
   "source": [
    "data = pd.read_csv(\"/kaggle/input/sentiment-analysis/sentiment_analysis.csv\")"
   ]
  },
  {
   "cell_type": "code",
   "execution_count": 4,
   "id": "95491dc5",
   "metadata": {
    "execution": {
     "iopub.execute_input": "2024-03-01T13:05:05.805335Z",
     "iopub.status.busy": "2024-03-01T13:05:05.805008Z",
     "iopub.status.idle": "2024-03-01T13:05:05.821574Z",
     "shell.execute_reply": "2024-03-01T13:05:05.820664Z"
    },
    "papermill": {
     "duration": 0.033259,
     "end_time": "2024-03-01T13:05:05.823604",
     "exception": false,
     "start_time": "2024-03-01T13:05:05.790345",
     "status": "completed"
    },
    "tags": []
   },
   "outputs": [
    {
     "data": {
      "text/html": [
       "<div>\n",
       "<style scoped>\n",
       "    .dataframe tbody tr th:only-of-type {\n",
       "        vertical-align: middle;\n",
       "    }\n",
       "\n",
       "    .dataframe tbody tr th {\n",
       "        vertical-align: top;\n",
       "    }\n",
       "\n",
       "    .dataframe thead th {\n",
       "        text-align: right;\n",
       "    }\n",
       "</style>\n",
       "<table border=\"1\" class=\"dataframe\">\n",
       "  <thead>\n",
       "    <tr style=\"text-align: right;\">\n",
       "      <th></th>\n",
       "      <th>Year</th>\n",
       "      <th>Month</th>\n",
       "      <th>Day</th>\n",
       "      <th>Time of Tweet</th>\n",
       "      <th>text</th>\n",
       "      <th>sentiment</th>\n",
       "      <th>Platform</th>\n",
       "    </tr>\n",
       "  </thead>\n",
       "  <tbody>\n",
       "    <tr>\n",
       "      <th>0</th>\n",
       "      <td>2018</td>\n",
       "      <td>8</td>\n",
       "      <td>18</td>\n",
       "      <td>morning</td>\n",
       "      <td>What a great day!!! Looks like dream.</td>\n",
       "      <td>positive</td>\n",
       "      <td>Twitter</td>\n",
       "    </tr>\n",
       "    <tr>\n",
       "      <th>1</th>\n",
       "      <td>2018</td>\n",
       "      <td>8</td>\n",
       "      <td>18</td>\n",
       "      <td>noon</td>\n",
       "      <td>I feel sorry, I miss you here in the sea beach</td>\n",
       "      <td>positive</td>\n",
       "      <td>Facebook</td>\n",
       "    </tr>\n",
       "    <tr>\n",
       "      <th>2</th>\n",
       "      <td>2017</td>\n",
       "      <td>8</td>\n",
       "      <td>18</td>\n",
       "      <td>night</td>\n",
       "      <td>Don't angry me</td>\n",
       "      <td>negative</td>\n",
       "      <td>Facebook</td>\n",
       "    </tr>\n",
       "    <tr>\n",
       "      <th>3</th>\n",
       "      <td>2022</td>\n",
       "      <td>6</td>\n",
       "      <td>8</td>\n",
       "      <td>morning</td>\n",
       "      <td>We attend in the class just for listening teac...</td>\n",
       "      <td>negative</td>\n",
       "      <td>Facebook</td>\n",
       "    </tr>\n",
       "    <tr>\n",
       "      <th>4</th>\n",
       "      <td>2022</td>\n",
       "      <td>6</td>\n",
       "      <td>8</td>\n",
       "      <td>noon</td>\n",
       "      <td>Those who want to go, let them go</td>\n",
       "      <td>negative</td>\n",
       "      <td>Instagram</td>\n",
       "    </tr>\n",
       "  </tbody>\n",
       "</table>\n",
       "</div>"
      ],
      "text/plain": [
       "   Year  Month  Day Time of Tweet  \\\n",
       "0  2018      8   18       morning   \n",
       "1  2018      8   18          noon   \n",
       "2  2017      8   18         night   \n",
       "3  2022      6    8       morning   \n",
       "4  2022      6    8          noon   \n",
       "\n",
       "                                                text sentiment     Platform  \n",
       "0              What a great day!!! Looks like dream.  positive    Twitter    \n",
       "1     I feel sorry, I miss you here in the sea beach  positive    Facebook   \n",
       "2                                     Don't angry me  negative     Facebook  \n",
       "3  We attend in the class just for listening teac...  negative    Facebook   \n",
       "4                  Those who want to go, let them go  negative   Instagram   "
      ]
     },
     "execution_count": 4,
     "metadata": {},
     "output_type": "execute_result"
    }
   ],
   "source": [
    "data.head()"
   ]
  },
  {
   "cell_type": "markdown",
   "id": "f592269e",
   "metadata": {
    "papermill": {
     "duration": 0.013753,
     "end_time": "2024-03-01T13:05:05.852346",
     "exception": false,
     "start_time": "2024-03-01T13:05:05.838593",
     "status": "completed"
    },
    "tags": []
   },
   "source": [
    "# EDA"
   ]
  },
  {
   "cell_type": "code",
   "execution_count": 5,
   "id": "901120b0",
   "metadata": {
    "execution": {
     "iopub.execute_input": "2024-03-01T13:05:05.881777Z",
     "iopub.status.busy": "2024-03-01T13:05:05.881389Z",
     "iopub.status.idle": "2024-03-01T13:05:05.905771Z",
     "shell.execute_reply": "2024-03-01T13:05:05.904561Z"
    },
    "papermill": {
     "duration": 0.041496,
     "end_time": "2024-03-01T13:05:05.907856",
     "exception": false,
     "start_time": "2024-03-01T13:05:05.866360",
     "status": "completed"
    },
    "tags": []
   },
   "outputs": [
    {
     "name": "stdout",
     "output_type": "stream",
     "text": [
      "<class 'pandas.core.frame.DataFrame'>\n",
      "RangeIndex: 499 entries, 0 to 498\n",
      "Data columns (total 7 columns):\n",
      " #   Column         Non-Null Count  Dtype \n",
      "---  ------         --------------  ----- \n",
      " 0   Year           499 non-null    int64 \n",
      " 1   Month          499 non-null    int64 \n",
      " 2   Day            499 non-null    int64 \n",
      " 3   Time of Tweet  499 non-null    object\n",
      " 4   text           499 non-null    object\n",
      " 5   sentiment      499 non-null    object\n",
      " 6   Platform       499 non-null    object\n",
      "dtypes: int64(3), object(4)\n",
      "memory usage: 27.4+ KB\n"
     ]
    }
   ],
   "source": [
    "data.info()"
   ]
  },
  {
   "cell_type": "code",
   "execution_count": 6,
   "id": "fba8d6e6",
   "metadata": {
    "execution": {
     "iopub.execute_input": "2024-03-01T13:05:05.939065Z",
     "iopub.status.busy": "2024-03-01T13:05:05.938291Z",
     "iopub.status.idle": "2024-03-01T13:05:05.958425Z",
     "shell.execute_reply": "2024-03-01T13:05:05.957461Z"
    },
    "papermill": {
     "duration": 0.037916,
     "end_time": "2024-03-01T13:05:05.960370",
     "exception": false,
     "start_time": "2024-03-01T13:05:05.922454",
     "status": "completed"
    },
    "tags": []
   },
   "outputs": [
    {
     "data": {
      "text/html": [
       "<div>\n",
       "<style scoped>\n",
       "    .dataframe tbody tr th:only-of-type {\n",
       "        vertical-align: middle;\n",
       "    }\n",
       "\n",
       "    .dataframe tbody tr th {\n",
       "        vertical-align: top;\n",
       "    }\n",
       "\n",
       "    .dataframe thead th {\n",
       "        text-align: right;\n",
       "    }\n",
       "</style>\n",
       "<table border=\"1\" class=\"dataframe\">\n",
       "  <thead>\n",
       "    <tr style=\"text-align: right;\">\n",
       "      <th></th>\n",
       "      <th>Year</th>\n",
       "      <th>Month</th>\n",
       "      <th>Day</th>\n",
       "    </tr>\n",
       "  </thead>\n",
       "  <tbody>\n",
       "    <tr>\n",
       "      <th>count</th>\n",
       "      <td>499.000000</td>\n",
       "      <td>499.000000</td>\n",
       "      <td>499.000000</td>\n",
       "    </tr>\n",
       "    <tr>\n",
       "      <th>mean</th>\n",
       "      <td>2020.394790</td>\n",
       "      <td>6.084168</td>\n",
       "      <td>15.693387</td>\n",
       "    </tr>\n",
       "    <tr>\n",
       "      <th>std</th>\n",
       "      <td>2.830991</td>\n",
       "      <td>3.652711</td>\n",
       "      <td>8.804673</td>\n",
       "    </tr>\n",
       "    <tr>\n",
       "      <th>min</th>\n",
       "      <td>2010.000000</td>\n",
       "      <td>1.000000</td>\n",
       "      <td>1.000000</td>\n",
       "    </tr>\n",
       "    <tr>\n",
       "      <th>25%</th>\n",
       "      <td>2019.000000</td>\n",
       "      <td>2.000000</td>\n",
       "      <td>8.000000</td>\n",
       "    </tr>\n",
       "    <tr>\n",
       "      <th>50%</th>\n",
       "      <td>2021.000000</td>\n",
       "      <td>6.000000</td>\n",
       "      <td>15.000000</td>\n",
       "    </tr>\n",
       "    <tr>\n",
       "      <th>75%</th>\n",
       "      <td>2023.000000</td>\n",
       "      <td>9.000000</td>\n",
       "      <td>22.000000</td>\n",
       "    </tr>\n",
       "    <tr>\n",
       "      <th>max</th>\n",
       "      <td>2023.000000</td>\n",
       "      <td>12.000000</td>\n",
       "      <td>31.000000</td>\n",
       "    </tr>\n",
       "  </tbody>\n",
       "</table>\n",
       "</div>"
      ],
      "text/plain": [
       "              Year       Month         Day\n",
       "count   499.000000  499.000000  499.000000\n",
       "mean   2020.394790    6.084168   15.693387\n",
       "std       2.830991    3.652711    8.804673\n",
       "min    2010.000000    1.000000    1.000000\n",
       "25%    2019.000000    2.000000    8.000000\n",
       "50%    2021.000000    6.000000   15.000000\n",
       "75%    2023.000000    9.000000   22.000000\n",
       "max    2023.000000   12.000000   31.000000"
      ]
     },
     "execution_count": 6,
     "metadata": {},
     "output_type": "execute_result"
    }
   ],
   "source": [
    "data.describe()"
   ]
  },
  {
   "cell_type": "code",
   "execution_count": 7,
   "id": "550a6dfc",
   "metadata": {
    "execution": {
     "iopub.execute_input": "2024-03-01T13:05:05.992077Z",
     "iopub.status.busy": "2024-03-01T13:05:05.991268Z",
     "iopub.status.idle": "2024-03-01T13:05:05.997123Z",
     "shell.execute_reply": "2024-03-01T13:05:05.996228Z"
    },
    "papermill": {
     "duration": 0.023585,
     "end_time": "2024-03-01T13:05:05.999067",
     "exception": false,
     "start_time": "2024-03-01T13:05:05.975482",
     "status": "completed"
    },
    "tags": []
   },
   "outputs": [
    {
     "data": {
      "text/plain": [
       "(499, 7)"
      ]
     },
     "execution_count": 7,
     "metadata": {},
     "output_type": "execute_result"
    }
   ],
   "source": [
    "data.shape"
   ]
  },
  {
   "cell_type": "code",
   "execution_count": 8,
   "id": "0bd65d65",
   "metadata": {
    "execution": {
     "iopub.execute_input": "2024-03-01T13:05:06.028671Z",
     "iopub.status.busy": "2024-03-01T13:05:06.028389Z",
     "iopub.status.idle": "2024-03-01T13:05:06.035635Z",
     "shell.execute_reply": "2024-03-01T13:05:06.034802Z"
    },
    "papermill": {
     "duration": 0.02427,
     "end_time": "2024-03-01T13:05:06.037594",
     "exception": false,
     "start_time": "2024-03-01T13:05:06.013324",
     "status": "completed"
    },
    "tags": []
   },
   "outputs": [
    {
     "data": {
      "text/plain": [
       "Year             0\n",
       "Month            0\n",
       "Day              0\n",
       "Time of Tweet    0\n",
       "text             0\n",
       "sentiment        0\n",
       "Platform         0\n",
       "dtype: int64"
      ]
     },
     "execution_count": 8,
     "metadata": {},
     "output_type": "execute_result"
    }
   ],
   "source": [
    "data.isna().sum()"
   ]
  },
  {
   "cell_type": "code",
   "execution_count": 9,
   "id": "d2d5ac22",
   "metadata": {
    "execution": {
     "iopub.execute_input": "2024-03-01T13:05:06.067247Z",
     "iopub.status.busy": "2024-03-01T13:05:06.067002Z",
     "iopub.status.idle": "2024-03-01T13:05:06.247822Z",
     "shell.execute_reply": "2024-03-01T13:05:06.246251Z"
    },
    "papermill": {
     "duration": 0.199826,
     "end_time": "2024-03-01T13:05:06.251822",
     "exception": false,
     "start_time": "2024-03-01T13:05:06.051996",
     "status": "completed"
    },
    "tags": []
   },
   "outputs": [
    {
     "data": {
      "text/plain": [
       "<Axes: ylabel='count'>"
      ]
     },
     "execution_count": 9,
     "metadata": {},
     "output_type": "execute_result"
    },
    {
     "data": {
      "image/png": "[encoded data removed]",
      "text/plain": [
       "<Figure size 640x480 with 1 Axes>"
      ]
     },
     "metadata": {},
     "output_type": "display_data"
    }
   ],
   "source": [
    "data[\"sentiment\"].value_counts().plot(kind = \"pie\" , autopct = \"%0.2f%%\")"
   ]
  },
  {
   "cell_type": "code",
   "execution_count": 10,
   "id": "d8500ece",
   "metadata": {
    "execution": {
     "iopub.execute_input": "2024-03-01T13:05:06.319200Z",
     "iopub.status.busy": "2024-03-01T13:05:06.318868Z",
     "iopub.status.idle": "2024-03-01T13:05:06.330242Z",
     "shell.execute_reply": "2024-03-01T13:05:06.329411Z"
    },
    "papermill": {
     "duration": 0.04668,
     "end_time": "2024-03-01T13:05:06.332234",
     "exception": false,
     "start_time": "2024-03-01T13:05:06.285554",
     "status": "completed"
    },
    "tags": []
   },
   "outputs": [
    {
     "data": {
      "text/html": [
       "<div>\n",
       "<style scoped>\n",
       "    .dataframe tbody tr th:only-of-type {\n",
       "        vertical-align: middle;\n",
       "    }\n",
       "\n",
       "    .dataframe tbody tr th {\n",
       "        vertical-align: top;\n",
       "    }\n",
       "\n",
       "    .dataframe thead th {\n",
       "        text-align: right;\n",
       "    }\n",
       "</style>\n",
       "<table border=\"1\" class=\"dataframe\">\n",
       "  <thead>\n",
       "    <tr style=\"text-align: right;\">\n",
       "      <th></th>\n",
       "      <th>Year</th>\n",
       "      <th>Month</th>\n",
       "      <th>Day</th>\n",
       "      <th>Time of Tweet</th>\n",
       "      <th>text</th>\n",
       "      <th>sentiment</th>\n",
       "      <th>Platform</th>\n",
       "    </tr>\n",
       "  </thead>\n",
       "  <tbody>\n",
       "    <tr>\n",
       "      <th>0</th>\n",
       "      <td>2018</td>\n",
       "      <td>8</td>\n",
       "      <td>18</td>\n",
       "      <td>morning</td>\n",
       "      <td>What a great day!!! Looks like dream.</td>\n",
       "      <td>positive</td>\n",
       "      <td>Twitter</td>\n",
       "    </tr>\n",
       "    <tr>\n",
       "      <th>1</th>\n",
       "      <td>2018</td>\n",
       "      <td>8</td>\n",
       "      <td>18</td>\n",
       "      <td>noon</td>\n",
       "      <td>I feel sorry, I miss you here in the sea beach</td>\n",
       "      <td>positive</td>\n",
       "      <td>Facebook</td>\n",
       "    </tr>\n",
       "    <tr>\n",
       "      <th>2</th>\n",
       "      <td>2017</td>\n",
       "      <td>8</td>\n",
       "      <td>18</td>\n",
       "      <td>night</td>\n",
       "      <td>Don't angry me</td>\n",
       "      <td>negative</td>\n",
       "      <td>Facebook</td>\n",
       "    </tr>\n",
       "    <tr>\n",
       "      <th>3</th>\n",
       "      <td>2022</td>\n",
       "      <td>6</td>\n",
       "      <td>8</td>\n",
       "      <td>morning</td>\n",
       "      <td>We attend in the class just for listening teac...</td>\n",
       "      <td>negative</td>\n",
       "      <td>Facebook</td>\n",
       "    </tr>\n",
       "    <tr>\n",
       "      <th>4</th>\n",
       "      <td>2022</td>\n",
       "      <td>6</td>\n",
       "      <td>8</td>\n",
       "      <td>noon</td>\n",
       "      <td>Those who want to go, let them go</td>\n",
       "      <td>negative</td>\n",
       "      <td>Instagram</td>\n",
       "    </tr>\n",
       "  </tbody>\n",
       "</table>\n",
       "</div>"
      ],
      "text/plain": [
       "   Year  Month  Day Time of Tweet  \\\n",
       "0  2018      8   18       morning   \n",
       "1  2018      8   18          noon   \n",
       "2  2017      8   18         night   \n",
       "3  2022      6    8       morning   \n",
       "4  2022      6    8          noon   \n",
       "\n",
       "                                                text sentiment     Platform  \n",
       "0              What a great day!!! Looks like dream.  positive    Twitter    \n",
       "1     I feel sorry, I miss you here in the sea beach  positive    Facebook   \n",
       "2                                     Don't angry me  negative     Facebook  \n",
       "3  We attend in the class just for listening teac...  negative    Facebook   \n",
       "4                  Those who want to go, let them go  negative   Instagram   "
      ]
     },
     "execution_count": 10,
     "metadata": {},
     "output_type": "execute_result"
    }
   ],
   "source": [
    "data.head()"
   ]
  },
  {
   "cell_type": "code",
   "execution_count": 11,
   "id": "5f7715ca",
   "metadata": {
    "execution": {
     "iopub.execute_input": "2024-03-01T13:05:06.363622Z",
     "iopub.status.busy": "2024-03-01T13:05:06.363278Z",
     "iopub.status.idle": "2024-03-01T13:05:06.369872Z",
     "shell.execute_reply": "2024-03-01T13:05:06.369001Z"
    },
    "papermill": {
     "duration": 0.024543,
     "end_time": "2024-03-01T13:05:06.371770",
     "exception": false,
     "start_time": "2024-03-01T13:05:06.347227",
     "status": "completed"
    },
    "tags": []
   },
   "outputs": [],
   "source": [
    "df = data.loc[:,(\"text\", \"sentiment\")]"
   ]
  },
  {
   "cell_type": "code",
   "execution_count": 12,
   "id": "afff9ac7",
   "metadata": {
    "execution": {
     "iopub.execute_input": "2024-03-01T13:05:06.402900Z",
     "iopub.status.busy": "2024-03-01T13:05:06.402614Z",
     "iopub.status.idle": "2024-03-01T13:05:06.411115Z",
     "shell.execute_reply": "2024-03-01T13:05:06.410212Z"
    },
    "papermill": {
     "duration": 0.026076,
     "end_time": "2024-03-01T13:05:06.412930",
     "exception": false,
     "start_time": "2024-03-01T13:05:06.386854",
     "status": "completed"
    },
    "tags": []
   },
   "outputs": [
    {
     "data": {
      "text/html": [
       "<div>\n",
       "<style scoped>\n",
       "    .dataframe tbody tr th:only-of-type {\n",
       "        vertical-align: middle;\n",
       "    }\n",
       "\n",
       "    .dataframe tbody tr th {\n",
       "        vertical-align: top;\n",
       "    }\n",
       "\n",
       "    .dataframe thead th {\n",
       "        text-align: right;\n",
       "    }\n",
       "</style>\n",
       "<table border=\"1\" class=\"dataframe\">\n",
       "  <thead>\n",
       "    <tr style=\"text-align: right;\">\n",
       "      <th></th>\n",
       "      <th>text</th>\n",
       "      <th>sentiment</th>\n",
       "    </tr>\n",
       "  </thead>\n",
       "  <tbody>\n",
       "    <tr>\n",
       "      <th>0</th>\n",
       "      <td>What a great day!!! Looks like dream.</td>\n",
       "      <td>positive</td>\n",
       "    </tr>\n",
       "    <tr>\n",
       "      <th>1</th>\n",
       "      <td>I feel sorry, I miss you here in the sea beach</td>\n",
       "      <td>positive</td>\n",
       "    </tr>\n",
       "    <tr>\n",
       "      <th>2</th>\n",
       "      <td>Don't angry me</td>\n",
       "      <td>negative</td>\n",
       "    </tr>\n",
       "    <tr>\n",
       "      <th>3</th>\n",
       "      <td>We attend in the class just for listening teac...</td>\n",
       "      <td>negative</td>\n",
       "    </tr>\n",
       "    <tr>\n",
       "      <th>4</th>\n",
       "      <td>Those who want to go, let them go</td>\n",
       "      <td>negative</td>\n",
       "    </tr>\n",
       "  </tbody>\n",
       "</table>\n",
       "</div>"
      ],
      "text/plain": [
       "                                                text sentiment\n",
       "0              What a great day!!! Looks like dream.  positive\n",
       "1     I feel sorry, I miss you here in the sea beach  positive\n",
       "2                                     Don't angry me  negative\n",
       "3  We attend in the class just for listening teac...  negative\n",
       "4                  Those who want to go, let them go  negative"
      ]
     },
     "execution_count": 12,
     "metadata": {},
     "output_type": "execute_result"
    }
   ],
   "source": [
    "df.head()"
   ]
  },
  {
   "cell_type": "code",
   "execution_count": 13,
   "id": "f9f44afc",
   "metadata": {
    "execution": {
     "iopub.execute_input": "2024-03-01T13:05:06.444170Z",
     "iopub.status.busy": "2024-03-01T13:05:06.443891Z",
     "iopub.status.idle": "2024-03-01T13:05:06.449482Z",
     "shell.execute_reply": "2024-03-01T13:05:06.448637Z"
    },
    "papermill": {
     "duration": 0.023356,
     "end_time": "2024-03-01T13:05:06.451328",
     "exception": false,
     "start_time": "2024-03-01T13:05:06.427972",
     "status": "completed"
    },
    "tags": []
   },
   "outputs": [],
   "source": [
    "df[\"total_alphabets\"] = df[\"text\"].apply(len)"
   ]
  },
  {
   "cell_type": "code",
   "execution_count": 14,
   "id": "cd7c7573",
   "metadata": {
    "execution": {
     "iopub.execute_input": "2024-03-01T13:05:06.482769Z",
     "iopub.status.busy": "2024-03-01T13:05:06.482188Z",
     "iopub.status.idle": "2024-03-01T13:05:06.491021Z",
     "shell.execute_reply": "2024-03-01T13:05:06.490156Z"
    },
    "papermill": {
     "duration": 0.026821,
     "end_time": "2024-03-01T13:05:06.493165",
     "exception": false,
     "start_time": "2024-03-01T13:05:06.466344",
     "status": "completed"
    },
    "tags": []
   },
   "outputs": [
    {
     "data": {
      "text/html": [
       "<div>\n",
       "<style scoped>\n",
       "    .dataframe tbody tr th:only-of-type {\n",
       "        vertical-align: middle;\n",
       "    }\n",
       "\n",
       "    .dataframe tbody tr th {\n",
       "        vertical-align: top;\n",
       "    }\n",
       "\n",
       "    .dataframe thead th {\n",
       "        text-align: right;\n",
       "    }\n",
       "</style>\n",
       "<table border=\"1\" class=\"dataframe\">\n",
       "  <thead>\n",
       "    <tr style=\"text-align: right;\">\n",
       "      <th></th>\n",
       "      <th>text</th>\n",
       "      <th>sentiment</th>\n",
       "      <th>total_alphabets</th>\n",
       "    </tr>\n",
       "  </thead>\n",
       "  <tbody>\n",
       "    <tr>\n",
       "      <th>0</th>\n",
       "      <td>What a great day!!! Looks like dream.</td>\n",
       "      <td>positive</td>\n",
       "      <td>37</td>\n",
       "    </tr>\n",
       "    <tr>\n",
       "      <th>1</th>\n",
       "      <td>I feel sorry, I miss you here in the sea beach</td>\n",
       "      <td>positive</td>\n",
       "      <td>46</td>\n",
       "    </tr>\n",
       "    <tr>\n",
       "      <th>2</th>\n",
       "      <td>Don't angry me</td>\n",
       "      <td>negative</td>\n",
       "      <td>14</td>\n",
       "    </tr>\n",
       "    <tr>\n",
       "      <th>3</th>\n",
       "      <td>We attend in the class just for listening teac...</td>\n",
       "      <td>negative</td>\n",
       "      <td>84</td>\n",
       "    </tr>\n",
       "    <tr>\n",
       "      <th>4</th>\n",
       "      <td>Those who want to go, let them go</td>\n",
       "      <td>negative</td>\n",
       "      <td>33</td>\n",
       "    </tr>\n",
       "  </tbody>\n",
       "</table>\n",
       "</div>"
      ],
      "text/plain": [
       "                                                text sentiment  \\\n",
       "0              What a great day!!! Looks like dream.  positive   \n",
       "1     I feel sorry, I miss you here in the sea beach  positive   \n",
       "2                                     Don't angry me  negative   \n",
       "3  We attend in the class just for listening teac...  negative   \n",
       "4                  Those who want to go, let them go  negative   \n",
       "\n",
       "   total_alphabets  \n",
       "0               37  \n",
       "1               46  \n",
       "2               14  \n",
       "3               84  \n",
       "4               33  "
      ]
     },
     "execution_count": 14,
     "metadata": {},
     "output_type": "execute_result"
    }
   ],
   "source": [
    "df.head()"
   ]
  },
  {
   "cell_type": "code",
   "execution_count": 15,
   "id": "e7ffc3fc",
   "metadata": {
    "execution": {
     "iopub.execute_input": "2024-03-01T13:05:06.525734Z",
     "iopub.status.busy": "2024-03-01T13:05:06.525208Z",
     "iopub.status.idle": "2024-03-01T13:05:06.533720Z",
     "shell.execute_reply": "2024-03-01T13:05:06.532814Z"
    },
    "papermill": {
     "duration": 0.02664,
     "end_time": "2024-03-01T13:05:06.535729",
     "exception": false,
     "start_time": "2024-03-01T13:05:06.509089",
     "status": "completed"
    },
    "tags": []
   },
   "outputs": [],
   "source": [
    "mean_alpha = [df[df[\"sentiment\"] == \"positive\"][\"total_alphabets\"].mean() , df[df[\"sentiment\"] == \"negative\"][\"total_alphabets\"].mean() , df[df[\"sentiment\"] == \"neutral\"][\"total_alphabets\"].mean()]"
   ]
  },
  {
   "cell_type": "code",
   "execution_count": 16,
   "id": "f41bf52e",
   "metadata": {
    "execution": {
     "iopub.execute_input": "2024-03-01T13:05:06.567117Z",
     "iopub.status.busy": "2024-03-01T13:05:06.566839Z",
     "iopub.status.idle": "2024-03-01T13:05:07.042855Z",
     "shell.execute_reply": "2024-03-01T13:05:07.041836Z"
    },
    "papermill": {
     "duration": 0.494274,
     "end_time": "2024-03-01T13:05:07.045115",
     "exception": false,
     "start_time": "2024-03-01T13:05:06.550841",
     "status": "completed"
    },
    "tags": []
   },
   "outputs": [
    {
     "name": "stderr",
     "output_type": "stream",
     "text": [
      "/opt/conda/lib/python3.10/site-packages/seaborn/_oldcore.py:1765: FutureWarning: unique with argument that is not not a Series, Index, ExtensionArray, or np.ndarray is deprecated and will raise in a future version.\n",
      "  order = pd.unique(vector)\n"
     ]
    },
    {
     "data": {
      "image/png": "[encoded data removed]",
      "text/plain": [
       "<Figure size 640x480 with 1 Axes>"
      ]
     },
     "metadata": {},
     "output_type": "display_data"
    }
   ],
   "source": [
    "import seaborn as sns\n",
    "target = [\"positive\" , \"negative\" , \"neural\"]\n",
    "sns.barplot(x = target ,y = mean_alpha )\n",
    "plt.xlabel(\"Target\", fontsize = 14)\n",
    "plt.ylabel(\"Average Alphabets\" , fontsize = 14)\n",
    "plt.show()"
   ]
  },
  {
   "cell_type": "markdown",
   "id": "7741df02",
   "metadata": {
    "papermill": {
     "duration": 0.015547,
     "end_time": "2024-03-01T13:05:07.076896",
     "exception": false,
     "start_time": "2024-03-01T13:05:07.061349",
     "status": "completed"
    },
    "tags": []
   },
   "source": [
    "# Text Preprocessing"
   ]
  },
  {
   "cell_type": "markdown",
   "id": "1994b0d2",
   "metadata": {
    "papermill": {
     "duration": 0.015697,
     "end_time": "2024-03-01T13:05:07.108282",
     "exception": false,
     "start_time": "2024-03-01T13:05:07.092585",
     "status": "completed"
    },
    "tags": []
   },
   "source": [
    "### Removing punctuation"
   ]
  },
  {
   "cell_type": "code",
   "execution_count": 17,
   "id": "0fb9c3b7",
   "metadata": {
    "execution": {
     "iopub.execute_input": "2024-03-01T13:05:07.141342Z",
     "iopub.status.busy": "2024-03-01T13:05:07.140416Z",
     "iopub.status.idle": "2024-03-01T13:05:07.158707Z",
     "shell.execute_reply": "2024-03-01T13:05:07.157821Z"
    },
    "papermill": {
     "duration": 0.037178,
     "end_time": "2024-03-01T13:05:07.161013",
     "exception": false,
     "start_time": "2024-03-01T13:05:07.123835",
     "status": "completed"
    },
    "tags": []
   },
   "outputs": [
    {
     "data": {
      "text/html": [
       "<div>\n",
       "<style scoped>\n",
       "    .dataframe tbody tr th:only-of-type {\n",
       "        vertical-align: middle;\n",
       "    }\n",
       "\n",
       "    .dataframe tbody tr th {\n",
       "        vertical-align: top;\n",
       "    }\n",
       "\n",
       "    .dataframe thead th {\n",
       "        text-align: right;\n",
       "    }\n",
       "</style>\n",
       "<table border=\"1\" class=\"dataframe\">\n",
       "  <thead>\n",
       "    <tr style=\"text-align: right;\">\n",
       "      <th></th>\n",
       "      <th>text</th>\n",
       "      <th>sentiment</th>\n",
       "      <th>total_alphabets</th>\n",
       "    </tr>\n",
       "  </thead>\n",
       "  <tbody>\n",
       "    <tr>\n",
       "      <th>0</th>\n",
       "      <td>what a great day looks like dream</td>\n",
       "      <td>positive</td>\n",
       "      <td>37</td>\n",
       "    </tr>\n",
       "    <tr>\n",
       "      <th>1</th>\n",
       "      <td>i feel sorry i miss you here in the sea beach</td>\n",
       "      <td>positive</td>\n",
       "      <td>46</td>\n",
       "    </tr>\n",
       "    <tr>\n",
       "      <th>2</th>\n",
       "      <td>dont angry me</td>\n",
       "      <td>negative</td>\n",
       "      <td>14</td>\n",
       "    </tr>\n",
       "    <tr>\n",
       "      <th>3</th>\n",
       "      <td>we attend in the class just for listening teac...</td>\n",
       "      <td>negative</td>\n",
       "      <td>84</td>\n",
       "    </tr>\n",
       "    <tr>\n",
       "      <th>4</th>\n",
       "      <td>those who want to go let them go</td>\n",
       "      <td>negative</td>\n",
       "      <td>33</td>\n",
       "    </tr>\n",
       "  </tbody>\n",
       "</table>\n",
       "</div>"
      ],
      "text/plain": [
       "                                                text sentiment  \\\n",
       "0                  what a great day looks like dream  positive   \n",
       "1      i feel sorry i miss you here in the sea beach  positive   \n",
       "2                                      dont angry me  negative   \n",
       "3  we attend in the class just for listening teac...  negative   \n",
       "4                   those who want to go let them go  negative   \n",
       "\n",
       "   total_alphabets  \n",
       "0               37  \n",
       "1               46  \n",
       "2               14  \n",
       "3               84  \n",
       "4               33  "
      ]
     },
     "execution_count": 17,
     "metadata": {},
     "output_type": "execute_result"
    }
   ],
   "source": [
    "import string \n",
    "\n",
    "punc = string.punctuation\n",
    "\n",
    "def remove_punctuation(text):\n",
    "    lst = []\n",
    "    text = text.lower()\n",
    "    for word in text:\n",
    "        if word not in punc:\n",
    "            lst.append(word)\n",
    "            \n",
    "    x = lst[:]\n",
    "    lst.clear()\n",
    "    return \"\".join(x)\n",
    "\n",
    "\n",
    "df[\"text\"] = df[\"text\"].apply(remove_punctuation)\n",
    "\n",
    "df.head()"
   ]
  },
  {
   "cell_type": "markdown",
   "id": "d65acc0f",
   "metadata": {
    "papermill": {
     "duration": 0.015487,
     "end_time": "2024-03-01T13:05:07.192906",
     "exception": false,
     "start_time": "2024-03-01T13:05:07.177419",
     "status": "completed"
    },
    "tags": []
   },
   "source": [
    "### Removing stopwords"
   ]
  },
  {
   "cell_type": "code",
   "execution_count": 18,
   "id": "fe5518c3",
   "metadata": {
    "execution": {
     "iopub.execute_input": "2024-03-01T13:05:07.264321Z",
     "iopub.status.busy": "2024-03-01T13:05:07.263506Z",
     "iopub.status.idle": "2024-03-01T13:05:07.286228Z",
     "shell.execute_reply": "2024-03-01T13:05:07.285544Z"
    },
    "papermill": {
     "duration": 0.079439,
     "end_time": "2024-03-01T13:05:07.288147",
     "exception": false,
     "start_time": "2024-03-01T13:05:07.208708",
     "status": "completed"
    },
    "tags": []
   },
   "outputs": [],
   "source": [
    "stop = stopwords.words(\"english\")\n",
    "\n",
    "def remove_stopwords(text):\n",
    "    lst = []\n",
    "    \n",
    "    for word in text.split():\n",
    "        if word not in stop:\n",
    "            lst.append(word)\n",
    "            \n",
    "    x = lst[:\n",
    "           ]\n",
    "    lst.clear()\n",
    "    return \" \".join(x)\n",
    "\n",
    "\n",
    "df[\"text\"] = df[\"text\"].apply(remove_stopwords)"
   ]
  },
  {
   "cell_type": "markdown",
   "id": "50d8c2d2",
   "metadata": {
    "papermill": {
     "duration": 0.015587,
     "end_time": "2024-03-01T13:05:07.319657",
     "exception": false,
     "start_time": "2024-03-01T13:05:07.304070",
     "status": "completed"
    },
    "tags": []
   },
   "source": [
    "### Applying Stemming"
   ]
  },
  {
   "cell_type": "code",
   "execution_count": 19,
   "id": "c7d3a590",
   "metadata": {
    "execution": {
     "iopub.execute_input": "2024-03-01T13:05:07.352333Z",
     "iopub.status.busy": "2024-03-01T13:05:07.352068Z",
     "iopub.status.idle": "2024-03-01T13:05:07.535138Z",
     "shell.execute_reply": "2024-03-01T13:05:07.534265Z"
    },
    "papermill": {
     "duration": 0.201877,
     "end_time": "2024-03-01T13:05:07.537238",
     "exception": false,
     "start_time": "2024-03-01T13:05:07.335361",
     "status": "completed"
    },
    "tags": []
   },
   "outputs": [
    {
     "data": {
      "text/plain": [
       "0                           great day look like dream\n",
       "1                           feel sorri miss sea beach\n",
       "2                                          dont angri\n",
       "3      attend class listen teacher read slide nonsenc\n",
       "4                                      want go let go\n",
       "                            ...                      \n",
       "494            accord quarter famili six live poverti\n",
       "495                          plan spend money go well\n",
       "496                   upload bamboozl pictur facebook\n",
       "497             congratul guy finish month earli booo\n",
       "498                        actual wish back taho miss\n",
       "Name: text, Length: 499, dtype: object"
      ]
     },
     "execution_count": 19,
     "metadata": {},
     "output_type": "execute_result"
    }
   ],
   "source": [
    "import nltk\n",
    "ps = PorterStemmer()\n",
    "\n",
    "def stemming(text):\n",
    "    words = nltk.word_tokenize(text)\n",
    "    stemmed_words = [ps.stem(word) for word in words]\n",
    "    return \" \".join(stemmed_words)\n",
    "\n",
    "df[\"text\"].apply(stemming)"
   ]
  },
  {
   "cell_type": "code",
   "execution_count": 20,
   "id": "6ce60de5",
   "metadata": {
    "execution": {
     "iopub.execute_input": "2024-03-01T13:05:07.578254Z",
     "iopub.status.busy": "2024-03-01T13:05:07.577268Z",
     "iopub.status.idle": "2024-03-01T13:05:07.584736Z",
     "shell.execute_reply": "2024-03-01T13:05:07.583641Z"
    },
    "papermill": {
     "duration": 0.033952,
     "end_time": "2024-03-01T13:05:07.588602",
     "exception": false,
     "start_time": "2024-03-01T13:05:07.554650",
     "status": "completed"
    },
    "tags": []
   },
   "outputs": [],
   "source": [
    "from sklearn.preprocessing import LabelEncoder\n",
    "\n",
    "le = LabelEncoder()\n",
    "\n",
    "X = df[\"text\"]\n",
    "\n",
    "y = le.fit_transform(df[\"sentiment\"])\n"
   ]
  },
  {
   "cell_type": "markdown",
   "id": "16744291",
   "metadata": {
    "papermill": {
     "duration": 0.015853,
     "end_time": "2024-03-01T13:05:07.625390",
     "exception": false,
     "start_time": "2024-03-01T13:05:07.609537",
     "status": "completed"
    },
    "tags": []
   },
   "source": [
    "## Train test split"
   ]
  },
  {
   "cell_type": "code",
   "execution_count": 21,
   "id": "756633b4",
   "metadata": {
    "execution": {
     "iopub.execute_input": "2024-03-01T13:05:07.659052Z",
     "iopub.status.busy": "2024-03-01T13:05:07.658727Z",
     "iopub.status.idle": "2024-03-01T13:05:07.667492Z",
     "shell.execute_reply": "2024-03-01T13:05:07.666501Z"
    },
    "papermill": {
     "duration": 0.027953,
     "end_time": "2024-03-01T13:05:07.669541",
     "exception": false,
     "start_time": "2024-03-01T13:05:07.641588",
     "status": "completed"
    },
    "tags": []
   },
   "outputs": [
    {
     "name": "stdout",
     "output_type": "stream",
     "text": [
      "(399,)\n",
      "(100,)\n",
      "(399,)\n",
      "(100,)\n"
     ]
    }
   ],
   "source": [
    "from sklearn.model_selection import train_test_split\n",
    "\n",
    "X_train , X_test ,y_train , y_test = train_test_split(df[\"text\"] , y , train_size = 0.8 , random_state = 0)\n",
    "\n",
    "print(X_train.shape)\n",
    "print(X_test.shape)\n",
    "print(y_train.shape)\n",
    "print(y_test.shape)"
   ]
  },
  {
   "cell_type": "markdown",
   "id": "2c5b9055",
   "metadata": {
    "papermill": {
     "duration": 0.021918,
     "end_time": "2024-03-01T13:05:07.712335",
     "exception": false,
     "start_time": "2024-03-01T13:05:07.690417",
     "status": "completed"
    },
    "tags": []
   },
   "source": [
    "# Word Embedding :- Count Vectorizer"
   ]
  },
  {
   "cell_type": "code",
   "execution_count": 22,
   "id": "029b5306",
   "metadata": {
    "execution": {
     "iopub.execute_input": "2024-03-01T13:05:07.757328Z",
     "iopub.status.busy": "2024-03-01T13:05:07.756478Z",
     "iopub.status.idle": "2024-03-01T13:05:07.761428Z",
     "shell.execute_reply": "2024-03-01T13:05:07.760588Z"
    },
    "papermill": {
     "duration": 0.029958,
     "end_time": "2024-03-01T13:05:07.763260",
     "exception": false,
     "start_time": "2024-03-01T13:05:07.733302",
     "status": "completed"
    },
    "tags": []
   },
   "outputs": [],
   "source": [
    "from sklearn.feature_extraction.text import CountVectorizer\n",
    "\n",
    "cv = CountVectorizer(ngram_range = (1,2) , max_features = 2500 ,binary = True)"
   ]
  },
  {
   "cell_type": "code",
   "execution_count": 23,
   "id": "98bf9627",
   "metadata": {
    "execution": {
     "iopub.execute_input": "2024-03-01T13:05:07.800967Z",
     "iopub.status.busy": "2024-03-01T13:05:07.800281Z",
     "iopub.status.idle": "2024-03-01T13:05:07.834252Z",
     "shell.execute_reply": "2024-03-01T13:05:07.833554Z"
    },
    "papermill": {
     "duration": 0.053506,
     "end_time": "2024-03-01T13:05:07.836200",
     "exception": false,
     "start_time": "2024-03-01T13:05:07.782694",
     "status": "completed"
    },
    "tags": []
   },
   "outputs": [],
   "source": [
    "X_train_bow= cv.fit_transform(X_train).toarray()\n",
    "\n",
    "X_test_bow = cv.transform(X_test).toarray()"
   ]
  },
  {
   "cell_type": "code",
   "execution_count": 24,
   "id": "27a367ed",
   "metadata": {
    "execution": {
     "iopub.execute_input": "2024-03-01T13:05:07.869661Z",
     "iopub.status.busy": "2024-03-01T13:05:07.869375Z",
     "iopub.status.idle": "2024-03-01T13:05:07.873627Z",
     "shell.execute_reply": "2024-03-01T13:05:07.872785Z"
    },
    "papermill": {
     "duration": 0.023244,
     "end_time": "2024-03-01T13:05:07.875757",
     "exception": false,
     "start_time": "2024-03-01T13:05:07.852513",
     "status": "completed"
    },
    "tags": []
   },
   "outputs": [
    {
     "name": "stdout",
     "output_type": "stream",
     "text": [
      "(399, 2500)\n",
      "(100, 2500)\n"
     ]
    }
   ],
   "source": [
    "print(X_train_bow.shape)\n",
    "print(X_test_bow.shape)"
   ]
  },
  {
   "cell_type": "code",
   "execution_count": 25,
   "id": "692154c7",
   "metadata": {
    "execution": {
     "iopub.execute_input": "2024-03-01T13:05:07.909308Z",
     "iopub.status.busy": "2024-03-01T13:05:07.908649Z",
     "iopub.status.idle": "2024-03-01T13:05:07.926792Z",
     "shell.execute_reply": "2024-03-01T13:05:07.925702Z"
    },
    "papermill": {
     "duration": 0.036839,
     "end_time": "2024-03-01T13:05:07.928655",
     "exception": false,
     "start_time": "2024-03-01T13:05:07.891816",
     "status": "completed"
    },
    "tags": []
   },
   "outputs": [
    {
     "name": "stdout",
     "output_type": "stream",
     "text": [
      "0.62\n"
     ]
    }
   ],
   "source": [
    "from sklearn.naive_bayes import MultinomialNB\n",
    "\n",
    "from sklearn.metrics import accuracy_score\n",
    "\n",
    "mnb = MultinomialNB()\n",
    "\n",
    "mnb.fit(X_train_bow , y_train)\n",
    "\n",
    "y_pred_mnb = mnb.predict(X_test_bow)\n",
    "\n",
    "print(accuracy_score(y_test , y_pred_mnb))"
   ]
  },
  {
   "cell_type": "code",
   "execution_count": 26,
   "id": "786949ad",
   "metadata": {
    "execution": {
     "iopub.execute_input": "2024-03-01T13:05:07.963409Z",
     "iopub.status.busy": "2024-03-01T13:05:07.962508Z",
     "iopub.status.idle": "2024-03-01T13:05:08.559913Z",
     "shell.execute_reply": "2024-03-01T13:05:08.558690Z"
    },
    "papermill": {
     "duration": 0.617105,
     "end_time": "2024-03-01T13:05:08.562134",
     "exception": false,
     "start_time": "2024-03-01T13:05:07.945029",
     "status": "completed"
    },
    "tags": []
   },
   "outputs": [
    {
     "name": "stdout",
     "output_type": "stream",
     "text": [
      "0.63\n"
     ]
    }
   ],
   "source": [
    "from sklearn.ensemble import RandomForestClassifier\n",
    "\n",
    "rf = RandomForestClassifier()\n",
    "rf.fit(X_train_bow , y_train)\n",
    "y_pred_rf = rf.predict(X_test_bow)\n",
    "print(accuracy_score(y_test , y_pred_rf))"
   ]
  },
  {
   "cell_type": "code",
   "execution_count": 27,
   "id": "021c2388",
   "metadata": {
    "execution": {
     "iopub.execute_input": "2024-03-01T13:05:08.600700Z",
     "iopub.status.busy": "2024-03-01T13:05:08.600305Z",
     "iopub.status.idle": "2024-03-01T13:05:12.609279Z",
     "shell.execute_reply": "2024-03-01T13:05:12.608163Z"
    },
    "papermill": {
     "duration": 4.031419,
     "end_time": "2024-03-01T13:05:12.611738",
     "exception": false,
     "start_time": "2024-03-01T13:05:08.580319",
     "status": "completed"
    },
    "tags": []
   },
   "outputs": [
    {
     "name": "stdout",
     "output_type": "stream",
     "text": [
      "0.62\n"
     ]
    }
   ],
   "source": [
    "from sklearn.ensemble import GradientBoostingClassifier\n",
    "\n",
    "gb = GradientBoostingClassifier(n_estimators=100, learning_rate=0.1, random_state=42)\n",
    "\n",
    "gb.fit(X_train_bow , y_train)\n",
    "\n",
    "y_pred = gb.predict(X_test_bow)\n",
    "\n",
    "print(accuracy_score(y_test , y_pred))"
   ]
  },
  {
   "cell_type": "markdown",
   "id": "43bef111",
   "metadata": {
    "papermill": {
     "duration": 0.01687,
     "end_time": "2024-03-01T13:05:12.646949",
     "exception": false,
     "start_time": "2024-03-01T13:05:12.630079",
     "status": "completed"
    },
    "tags": []
   },
   "source": [
    "# Word Embedding :- Tf-idf Vectorizer"
   ]
  },
  {
   "cell_type": "code",
   "execution_count": 28,
   "id": "02d2fb61",
   "metadata": {
    "execution": {
     "iopub.execute_input": "2024-03-01T13:05:12.682960Z",
     "iopub.status.busy": "2024-03-01T13:05:12.682160Z",
     "iopub.status.idle": "2024-03-01T13:05:12.717061Z",
     "shell.execute_reply": "2024-03-01T13:05:12.716292Z"
    },
    "papermill": {
     "duration": 0.055033,
     "end_time": "2024-03-01T13:05:12.719218",
     "exception": false,
     "start_time": "2024-03-01T13:05:12.664185",
     "status": "completed"
    },
    "tags": []
   },
   "outputs": [],
   "source": [
    "from sklearn.feature_extraction.text import TfidfVectorizer\n",
    "\n",
    "tfidf = TfidfVectorizer(ngram_range = (1,2) , max_features = 2500 ,binary = True)\n",
    "\n",
    "X_train_bow= tfidf.fit_transform(X_train).toarray()\n",
    "\n",
    "X_test_bow = tfidf.transform(X_test).toarray()"
   ]
  },
  {
   "cell_type": "code",
   "execution_count": 29,
   "id": "079b164c",
   "metadata": {
    "execution": {
     "iopub.execute_input": "2024-03-01T13:05:12.754346Z",
     "iopub.status.busy": "2024-03-01T13:05:12.753774Z",
     "iopub.status.idle": "2024-03-01T13:05:12.758772Z",
     "shell.execute_reply": "2024-03-01T13:05:12.757749Z"
    },
    "papermill": {
     "duration": 0.024541,
     "end_time": "2024-03-01T13:05:12.760703",
     "exception": false,
     "start_time": "2024-03-01T13:05:12.736162",
     "status": "completed"
    },
    "tags": []
   },
   "outputs": [
    {
     "name": "stdout",
     "output_type": "stream",
     "text": [
      "(399, 2500)\n",
      "(100, 2500)\n"
     ]
    }
   ],
   "source": [
    "print(X_train_bow.shape)\n",
    "print(X_test_bow.shape)"
   ]
  },
  {
   "cell_type": "code",
   "execution_count": 30,
   "id": "462db24a",
   "metadata": {
    "execution": {
     "iopub.execute_input": "2024-03-01T13:05:12.796235Z",
     "iopub.status.busy": "2024-03-01T13:05:12.795319Z",
     "iopub.status.idle": "2024-03-01T13:05:12.810920Z",
     "shell.execute_reply": "2024-03-01T13:05:12.809572Z"
    },
    "papermill": {
     "duration": 0.037029,
     "end_time": "2024-03-01T13:05:12.814881",
     "exception": false,
     "start_time": "2024-03-01T13:05:12.777852",
     "status": "completed"
    },
    "tags": []
   },
   "outputs": [
    {
     "name": "stdout",
     "output_type": "stream",
     "text": [
      "0.66\n"
     ]
    }
   ],
   "source": [
    "from sklearn.naive_bayes import MultinomialNB\n",
    "from sklearn.metrics import accuracy_score\n",
    "\n",
    "mnb = MultinomialNB()\n",
    "\n",
    "mnb.fit(X_train_bow , y_train)\n",
    "\n",
    "y_pred = mnb.predict(X_test_bow)\n",
    "\n",
    "print(accuracy_score(y_test , y_pred))"
   ]
  },
  {
   "cell_type": "code",
   "execution_count": 31,
   "id": "799a2b1d",
   "metadata": {
    "execution": {
     "iopub.execute_input": "2024-03-01T13:05:12.894488Z",
     "iopub.status.busy": "2024-03-01T13:05:12.893728Z",
     "iopub.status.idle": "2024-03-01T13:05:13.404187Z",
     "shell.execute_reply": "2024-03-01T13:05:13.402997Z"
    },
    "papermill": {
     "duration": 0.55217,
     "end_time": "2024-03-01T13:05:13.406169",
     "exception": false,
     "start_time": "2024-03-01T13:05:12.853999",
     "status": "completed"
    },
    "tags": []
   },
   "outputs": [
    {
     "name": "stdout",
     "output_type": "stream",
     "text": [
      "0.63\n"
     ]
    }
   ],
   "source": [
    "from sklearn.ensemble import RandomForestClassifier\n",
    "\n",
    "rf = RandomForestClassifier()\n",
    "rf.fit(X_train_bow , y_train)\n",
    "y_pred_rf = rf.predict(X_test_bow)\n",
    "print(accuracy_score(y_test , y_pred_rf))"
   ]
  },
  {
   "cell_type": "code",
   "execution_count": 32,
   "id": "b6ba777c",
   "metadata": {
    "execution": {
     "iopub.execute_input": "2024-03-01T13:05:13.441694Z",
     "iopub.status.busy": "2024-03-01T13:05:13.441350Z",
     "iopub.status.idle": "2024-03-01T13:05:17.320851Z",
     "shell.execute_reply": "2024-03-01T13:05:17.319558Z"
    },
    "papermill": {
     "duration": 3.899465,
     "end_time": "2024-03-01T13:05:17.322969",
     "exception": false,
     "start_time": "2024-03-01T13:05:13.423504",
     "status": "completed"
    },
    "tags": []
   },
   "outputs": [
    {
     "name": "stdout",
     "output_type": "stream",
     "text": [
      "0.59\n"
     ]
    }
   ],
   "source": [
    "from sklearn.ensemble import GradientBoostingClassifier\n",
    "\n",
    "gb = GradientBoostingClassifier(n_estimators=100, learning_rate=0.1, random_state=42)\n",
    "\n",
    "gb.fit(X_train_bow , y_train)\n",
    "\n",
    "y_pred = gb.predict(X_test_bow)\n",
    "\n",
    "print(accuracy_score(y_test , y_pred))"
   ]
  },
  {
   "cell_type": "markdown",
   "id": "03093fc2",
   "metadata": {
    "papermill": {
     "duration": 0.016822,
     "end_time": "2024-03-01T13:05:17.356902",
     "exception": false,
     "start_time": "2024-03-01T13:05:17.340080",
     "status": "completed"
    },
    "tags": []
   },
   "source": [
    "# Word Embedding :- Word2Vec"
   ]
  },
  {
   "cell_type": "code",
   "execution_count": 33,
   "id": "757addcb",
   "metadata": {
    "execution": {
     "iopub.execute_input": "2024-03-01T13:05:17.392299Z",
     "iopub.status.busy": "2024-03-01T13:05:17.391976Z",
     "iopub.status.idle": "2024-03-01T13:05:27.610545Z",
     "shell.execute_reply": "2024-03-01T13:05:27.609719Z"
    },
    "papermill": {
     "duration": 10.238936,
     "end_time": "2024-03-01T13:05:27.613102",
     "exception": false,
     "start_time": "2024-03-01T13:05:17.374166",
     "status": "completed"
    },
    "tags": []
   },
   "outputs": [],
   "source": [
    "import gensim\n",
    "from nltk import sent_tokenize\n",
    "from gensim.utils import simple_preprocess"
   ]
  },
  {
   "cell_type": "code",
   "execution_count": 34,
   "id": "012181a0",
   "metadata": {
    "execution": {
     "iopub.execute_input": "2024-03-01T13:05:27.649458Z",
     "iopub.status.busy": "2024-03-01T13:05:27.648891Z",
     "iopub.status.idle": "2024-03-01T13:09:40.426867Z",
     "shell.execute_reply": "2024-03-01T13:09:40.426046Z"
    },
    "papermill": {
     "duration": 252.798717,
     "end_time": "2024-03-01T13:09:40.429219",
     "exception": false,
     "start_time": "2024-03-01T13:05:27.630502",
     "status": "completed"
    },
    "tags": []
   },
   "outputs": [
    {
     "name": "stdout",
     "output_type": "stream",
     "text": [
      "[==================================================] 100.0% 1662.8/1662.8MB downloaded\n"
     ]
    }
   ],
   "source": [
    "## Importing Google pre- trained model\n",
    "\n",
    "import gensim.downloader as api\n",
    "\n",
    "wv = api.load(\"word2vec-google-news-300\")"
   ]
  },
  {
   "cell_type": "code",
   "execution_count": 35,
   "id": "d9de32b5",
   "metadata": {
    "execution": {
     "iopub.execute_input": "2024-03-01T13:10:04.656257Z",
     "iopub.status.busy": "2024-03-01T13:10:04.655906Z",
     "iopub.status.idle": "2024-03-01T13:10:04.685187Z",
     "shell.execute_reply": "2024-03-01T13:10:04.684122Z"
    },
    "papermill": {
     "duration": 12.22961,
     "end_time": "2024-03-01T13:10:04.687770",
     "exception": false,
     "start_time": "2024-03-01T13:09:52.458160",
     "status": "completed"
    },
    "tags": []
   },
   "outputs": [],
   "source": [
    "##Preprocessing\n",
    "X = df[\"text\"]\n",
    "\n",
    "story = []\n",
    "\n",
    "for doc in X:\n",
    "    raw_sent = sent_tokenize(doc)\n",
    "    for sent in raw_sent:\n",
    "        story.append(simple_preprocess(sent))"
   ]
  },
  {
   "cell_type": "code",
   "execution_count": 36,
   "id": "53823b56",
   "metadata": {
    "execution": {
     "iopub.execute_input": "2024-03-01T13:10:28.701183Z",
     "iopub.status.busy": "2024-03-01T13:10:28.700792Z",
     "iopub.status.idle": "2024-03-01T13:10:28.706296Z",
     "shell.execute_reply": "2024-03-01T13:10:28.705347Z"
    },
    "papermill": {
     "duration": 12.027247,
     "end_time": "2024-03-01T13:10:28.708349",
     "exception": false,
     "start_time": "2024-03-01T13:10:16.681102",
     "status": "completed"
    },
    "tags": []
   },
   "outputs": [],
   "source": [
    "model = gensim.models.Word2Vec(\n",
    "    window = 9,\n",
    "    min_count = 2\n",
    ")"
   ]
  },
  {
   "cell_type": "code",
   "execution_count": 37,
   "id": "a322cd16",
   "metadata": {
    "execution": {
     "iopub.execute_input": "2024-03-01T13:10:52.788894Z",
     "iopub.status.busy": "2024-03-01T13:10:52.788043Z",
     "iopub.status.idle": "2024-03-01T13:10:52.853239Z",
     "shell.execute_reply": "2024-03-01T13:10:52.852177Z"
    },
    "papermill": {
     "duration": 12.037069,
     "end_time": "2024-03-01T13:10:52.855110",
     "exception": false,
     "start_time": "2024-03-01T13:10:40.818041",
     "status": "completed"
    },
    "tags": []
   },
   "outputs": [],
   "source": [
    "model.build_vocab(story)"
   ]
  },
  {
   "cell_type": "code",
   "execution_count": 38,
   "id": "b18a0f3d",
   "metadata": {
    "execution": {
     "iopub.execute_input": "2024-03-01T13:11:17.068211Z",
     "iopub.status.busy": "2024-03-01T13:11:17.067822Z",
     "iopub.status.idle": "2024-03-01T13:11:17.104433Z",
     "shell.execute_reply": "2024-03-01T13:11:17.103507Z"
    },
    "papermill": {
     "duration": 12.281134,
     "end_time": "2024-03-01T13:11:17.106579",
     "exception": false,
     "start_time": "2024-03-01T13:11:04.825445",
     "status": "completed"
    },
    "tags": []
   },
   "outputs": [
    {
     "data": {
      "text/plain": [
       "(10320, 15765)"
      ]
     },
     "execution_count": 38,
     "metadata": {},
     "output_type": "execute_result"
    }
   ],
   "source": [
    "model.train(story , total_examples = model.corpus_count , epochs = model.epochs)"
   ]
  },
  {
   "cell_type": "code",
   "execution_count": 39,
   "id": "5bee0c10",
   "metadata": {
    "execution": {
     "iopub.execute_input": "2024-03-01T13:11:41.546791Z",
     "iopub.status.busy": "2024-03-01T13:11:41.546317Z",
     "iopub.status.idle": "2024-03-01T13:11:41.552145Z",
     "shell.execute_reply": "2024-03-01T13:11:41.551342Z"
    },
    "papermill": {
     "duration": 12.049756,
     "end_time": "2024-03-01T13:11:41.554094",
     "exception": false,
     "start_time": "2024-03-01T13:11:29.504338",
     "status": "completed"
    },
    "tags": []
   },
   "outputs": [
    {
     "data": {
      "text/plain": [
       "607"
      ]
     },
     "execution_count": 39,
     "metadata": {},
     "output_type": "execute_result"
    }
   ],
   "source": [
    "len(model.wv.index_to_key)"
   ]
  },
  {
   "cell_type": "code",
   "execution_count": 40,
   "id": "831fafeb",
   "metadata": {
    "execution": {
     "iopub.execute_input": "2024-03-01T13:12:05.562066Z",
     "iopub.status.busy": "2024-03-01T13:12:05.561681Z",
     "iopub.status.idle": "2024-03-01T13:12:05.567735Z",
     "shell.execute_reply": "2024-03-01T13:12:05.566821Z"
    },
    "papermill": {
     "duration": 12.110325,
     "end_time": "2024-03-01T13:12:05.569798",
     "exception": false,
     "start_time": "2024-03-01T13:11:53.459473",
     "status": "completed"
    },
    "tags": []
   },
   "outputs": [],
   "source": [
    "def document_vector(doc):\n",
    "    \n",
    "    doc = [word for word in doc.split() if word in model.wv.index_to_key]\n",
    "    if doc:\n",
    "        vectors = [model.wv[word] for word in doc]\n",
    "        return np.mean(vectors, axis=0)\n",
    "    else:\n",
    "        return np.zeros(model.vector_size)      "
   ]
  },
  {
   "cell_type": "code",
   "execution_count": 41,
   "id": "7600c996",
   "metadata": {
    "execution": {
     "iopub.execute_input": "2024-03-01T13:12:29.675228Z",
     "iopub.status.busy": "2024-03-01T13:12:29.674615Z",
     "iopub.status.idle": "2024-03-01T13:12:29.682579Z",
     "shell.execute_reply": "2024-03-01T13:12:29.681674Z"
    },
    "papermill": {
     "duration": 12.139833,
     "end_time": "2024-03-01T13:12:29.684427",
     "exception": false,
     "start_time": "2024-03-01T13:12:17.544594",
     "status": "completed"
    },
    "tags": []
   },
   "outputs": [
    {
     "data": {
      "text/plain": [
       "array([-1.7927326e-03,  6.1333214e-04, -2.3828670e-03, -6.0335768e-04,\n",
       "       -1.1778030e-03, -2.6614293e-03, -8.9925749e-04,  3.6697728e-03,\n",
       "       -7.0688650e-03, -2.0952842e-03,  2.7145739e-03, -2.8839160e-03,\n",
       "       -4.5837741e-03,  8.9359208e-04, -1.5106499e-03, -1.7696597e-03,\n",
       "        1.3708300e-03, -3.7467531e-03, -1.0105723e-03, -1.1287294e-03,\n",
       "        8.5104664e-04, -9.9795870e-06,  2.4691552e-03,  1.0656455e-03,\n",
       "       -2.1620330e-03, -6.2030274e-04, -1.2287010e-03, -2.7764947e-03,\n",
       "        1.8785611e-03,  1.8180136e-03,  4.7082142e-03, -7.4523804e-04,\n",
       "        7.4735784e-04, -3.8321472e-03, -1.6725910e-04,  5.2142488e-03,\n",
       "        2.8155581e-03,  4.6209008e-03,  3.3537969e-03, -1.1684441e-03,\n",
       "        2.5816525e-03, -3.5162289e-03, -8.0145022e-04,  8.1375538e-04,\n",
       "       -2.1558576e-03,  1.3817006e-03,  3.5134915e-03,  9.3517156e-04,\n",
       "       -1.2909949e-03,  9.7452867e-04, -1.4234763e-03, -3.8722090e-03,\n",
       "        4.9633845e-03,  1.1758107e-03,  2.1257489e-03,  1.5848319e-03,\n",
       "        3.4409179e-03, -1.9702178e-03, -1.4459735e-03,  1.0477758e-03,\n",
       "        4.1612526e-03, -2.3798584e-03,  2.2509333e-03, -3.0035123e-03,\n",
       "        1.0009691e-03, -1.1508109e-03,  2.5720568e-03,  7.2188978e-04,\n",
       "       -1.2262901e-03, -5.5917446e-04,  6.4180887e-05, -4.9588771e-04,\n",
       "        5.6096902e-03,  2.7232461e-03,  2.1413378e-03,  3.4136148e-04,\n",
       "       -4.3665702e-03,  1.2014986e-03, -2.3433275e-03,  1.2013457e-03,\n",
       "       -4.3323945e-04,  1.2488008e-04, -1.5908598e-03, -5.1837256e-03,\n",
       "       -1.8742669e-03, -1.2467926e-03, -2.8162498e-03, -7.0449692e-04,\n",
       "        8.8886201e-04,  1.0033880e-03,  3.9274911e-03,  3.3167773e-03,\n",
       "        1.4296153e-03, -1.6828714e-03,  3.1463646e-03,  1.5332503e-04,\n",
       "       -3.7068353e-04,  1.1444287e-03,  1.5695524e-04, -2.5913646e-03],\n",
       "      dtype=float32)"
      ]
     },
     "execution_count": 41,
     "metadata": {},
     "output_type": "execute_result"
    }
   ],
   "source": [
    "document_vector(df[\"text\"].values[0])"
   ]
  },
  {
   "cell_type": "code",
   "execution_count": 42,
   "id": "0a59a0e2",
   "metadata": {
    "execution": {
     "iopub.execute_input": "2024-03-01T13:12:53.771457Z",
     "iopub.status.busy": "2024-03-01T13:12:53.770506Z",
     "iopub.status.idle": "2024-03-01T13:12:53.812281Z",
     "shell.execute_reply": "2024-03-01T13:12:53.811382Z"
    },
    "papermill": {
     "duration": 12.031053,
     "end_time": "2024-03-01T13:12:53.814443",
     "exception": false,
     "start_time": "2024-03-01T13:12:41.783390",
     "status": "completed"
    },
    "tags": []
   },
   "outputs": [
    {
     "name": "stderr",
     "output_type": "stream",
     "text": [
      "100%|██████████| 499/499 [00:00<00:00, 14975.05it/s]\n"
     ]
    }
   ],
   "source": [
    "from tqdm import tqdm\n",
    "\n",
    "x = []\n",
    "for doc in tqdm(df['text'].values):\n",
    "    x.append(document_vector(doc))"
   ]
  },
  {
   "cell_type": "code",
   "execution_count": 43,
   "id": "30279573",
   "metadata": {
    "execution": {
     "iopub.execute_input": "2024-03-01T13:13:18.168484Z",
     "iopub.status.busy": "2024-03-01T13:13:18.167635Z",
     "iopub.status.idle": "2024-03-01T13:13:18.173811Z",
     "shell.execute_reply": "2024-03-01T13:13:18.172775Z"
    },
    "papermill": {
     "duration": 12.194213,
     "end_time": "2024-03-01T13:13:18.175626",
     "exception": false,
     "start_time": "2024-03-01T13:13:05.981413",
     "status": "completed"
    },
    "tags": []
   },
   "outputs": [
    {
     "name": "stdout",
     "output_type": "stream",
     "text": [
      "(499, 100)\n"
     ]
    }
   ],
   "source": [
    "x = np.array(x)\n",
    "\n",
    "print(x.shape)"
   ]
  },
  {
   "cell_type": "code",
   "execution_count": 44,
   "id": "ada59a5e",
   "metadata": {
    "execution": {
     "iopub.execute_input": "2024-03-01T13:13:42.212480Z",
     "iopub.status.busy": "2024-03-01T13:13:42.212113Z",
     "iopub.status.idle": "2024-03-01T13:13:42.220321Z",
     "shell.execute_reply": "2024-03-01T13:13:42.218979Z"
    },
    "papermill": {
     "duration": 12.145224,
     "end_time": "2024-03-01T13:13:42.222271",
     "exception": false,
     "start_time": "2024-03-01T13:13:30.077047",
     "status": "completed"
    },
    "tags": []
   },
   "outputs": [
    {
     "name": "stdout",
     "output_type": "stream",
     "text": [
      "(399, 100)\n",
      "(100, 100)\n",
      "(399,)\n",
      "(100,)\n"
     ]
    }
   ],
   "source": [
    "from sklearn.model_selection import train_test_split\n",
    "\n",
    "X_train , X_test ,y_train , y_test = train_test_split(x , y , train_size = 0.8 , random_state = 0)\n",
    "\n",
    "print(X_train.shape)\n",
    "print(X_test.shape)\n",
    "print(y_train.shape)\n",
    "print(y_test.shape)"
   ]
  },
  {
   "cell_type": "code",
   "execution_count": 45,
   "id": "faeb8b87",
   "metadata": {
    "execution": {
     "iopub.execute_input": "2024-03-01T13:14:06.169377Z",
     "iopub.status.busy": "2024-03-01T13:14:06.169029Z",
     "iopub.status.idle": "2024-03-01T13:14:06.540367Z",
     "shell.execute_reply": "2024-03-01T13:14:06.539488Z"
    },
    "papermill": {
     "duration": 12.398513,
     "end_time": "2024-03-01T13:14:06.542459",
     "exception": false,
     "start_time": "2024-03-01T13:13:54.143946",
     "status": "completed"
    },
    "tags": []
   },
   "outputs": [
    {
     "name": "stdout",
     "output_type": "stream",
     "text": [
      "0.63\n"
     ]
    }
   ],
   "source": [
    "from sklearn.ensemble import RandomForestClassifier\n",
    "\n",
    "from sklearn.metrics import accuracy_score\n",
    "\n",
    "rf = RandomForestClassifier()\n",
    "\n",
    "rf.fit(X_train , y_train)\n",
    "\n",
    "y_pred = rf.predict(X_test)\n",
    "\n",
    "print(accuracy_score(y_test , y_pred))"
   ]
  },
  {
   "cell_type": "code",
   "execution_count": 46,
   "id": "18dbd833",
   "metadata": {
    "execution": {
     "iopub.execute_input": "2024-03-01T13:14:30.691173Z",
     "iopub.status.busy": "2024-03-01T13:14:30.690808Z",
     "iopub.status.idle": "2024-03-01T13:14:33.669846Z",
     "shell.execute_reply": "2024-03-01T13:14:33.668845Z"
    },
    "papermill": {
     "duration": 14.922146,
     "end_time": "2024-03-01T13:14:33.671873",
     "exception": false,
     "start_time": "2024-03-01T13:14:18.749727",
     "status": "completed"
    },
    "tags": []
   },
   "outputs": [
    {
     "name": "stdout",
     "output_type": "stream",
     "text": [
      "0.62\n"
     ]
    }
   ],
   "source": [
    "from sklearn.ensemble import GradientBoostingClassifier\n",
    "\n",
    "from sklearn.metrics import accuracy_score\n",
    "\n",
    "gb = GradientBoostingClassifier()\n",
    "\n",
    "gb.fit(X_train , y_train)\n",
    "\n",
    "y_pred = gb.predict(X_test)\n",
    "\n",
    "print(accuracy_score(y_test , y_pred))"
   ]
  },
  {
   "cell_type": "code",
   "execution_count": 47,
   "id": "882fecb6",
   "metadata": {
    "execution": {
     "iopub.execute_input": "2024-03-01T13:14:57.697944Z",
     "iopub.status.busy": "2024-03-01T13:14:57.696935Z",
     "iopub.status.idle": "2024-03-01T13:15:00.684877Z",
     "shell.execute_reply": "2024-03-01T13:15:00.683672Z"
    },
    "papermill": {
     "duration": 15.043347,
     "end_time": "2024-03-01T13:15:00.687034",
     "exception": false,
     "start_time": "2024-03-01T13:14:45.643687",
     "status": "completed"
    },
    "tags": []
   },
   "outputs": [
    {
     "name": "stdout",
     "output_type": "stream",
     "text": [
      "0.59\n"
     ]
    }
   ],
   "source": [
    "from sklearn.ensemble import AdaBoostClassifier\n",
    "\n",
    "from sklearn.metrics import accuracy_score\n",
    "\n",
    "ab = GradientBoostingClassifier()\n",
    "\n",
    "ab.fit(X_train , y_train)\n",
    "\n",
    "y_pred = ab.predict(X_test)\n",
    "\n",
    "print(accuracy_score(y_test , y_pred))"
   ]
  }
 ],
 "metadata": {
  "kaggle": {
   "accelerator": "none",
   "dataSources": [
    {
     "datasetId": 4309095,
     "sourceId": 7408860,
     "sourceType": "datasetVersion"
    }
   ],
   "dockerImageVersionId": 30664,
   "isGpuEnabled": false,
   "isInternetEnabled": true,
   "language": "python",
   "sourceType": "notebook"
  },
  "kernelspec": {
   "display_name": "Python 3",
   "language": "python",
   "name": "python3"
  },
  "language_info": {
   "codemirror_mode": {
    "name": "ipython",
    "version": 3
   },
   "file_extension": ".py",
   "mimetype": "text/x-python",
   "name": "python",
   "nbconvert_exporter": "python",
   "pygments_lexer": "ipython3",
   "version": "3.10.13"
  },
  "papermill": {
   "default_parameters": {},
   "duration": 613.494004,
   "end_time": "2024-03-01T13:15:13.999940",
   "environment_variables": {},
   "exception": null,
   "input_path": "__notebook__.ipynb",
   "output_path": "__notebook__.ipynb",
   "parameters": {},
   "start_time": "2024-03-01T13:05:00.505936",
   "version": "2.5.0"
  }
 },
 "nbformat": 4,
 "nbformat_minor": 5
}
